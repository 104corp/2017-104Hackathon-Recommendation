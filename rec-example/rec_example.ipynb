{
 "cells": [
  {
   "cell_type": "markdown",
   "metadata": {},
   "source": [
    "# 104hackathon Recommendation Example"
   ]
  },
  {
   "cell_type": "markdown",
   "metadata": {},
   "source": [
    "### 1. 使用pandas讀user_log.csv"
   ]
  },
  {
   "cell_type": "code",
   "execution_count": 1,
   "metadata": {
    "collapsed": true
   },
   "outputs": [],
   "source": [
    "import pandas as pd"
   ]
  },
  {
   "cell_type": "code",
   "execution_count": 2,
   "metadata": {
    "collapsed": false
   },
   "outputs": [
    {
     "data": {
      "text/html": [
       "<div>\n",
       "<table border=\"1\" class=\"dataframe\">\n",
       "  <thead>\n",
       "    <tr style=\"text-align: right;\">\n",
       "      <th></th>\n",
       "      <th>uid</th>\n",
       "      <th>action</th>\n",
       "      <th>jobNo</th>\n",
       "      <th>invoice</th>\n",
       "      <th>dateTime</th>\n",
       "      <th>source</th>\n",
       "      <th>url</th>\n",
       "      <th>deviceType</th>\n",
       "    </tr>\n",
       "  </thead>\n",
       "  <tbody>\n",
       "    <tr>\n",
       "      <th>0</th>\n",
       "      <td>240518173237</td>\n",
       "      <td>viewJob</td>\n",
       "      <td>7582959</td>\n",
       "      <td>69568009</td>\n",
       "      <td>2017-01-04 12:03:32</td>\n",
       "      <td>app</td>\n",
       "      <td>NaN</td>\n",
       "      <td>1.0</td>\n",
       "    </tr>\n",
       "    <tr>\n",
       "      <th>1</th>\n",
       "      <td>1219770712231</td>\n",
       "      <td>viewCust</td>\n",
       "      <td>NaN</td>\n",
       "      <td>15458455</td>\n",
       "      <td>2016-11-23 18:57:48</td>\n",
       "      <td>mobileWeb</td>\n",
       "      <td>m.104.com.tw/cust/73nkc7s</td>\n",
       "      <td>NaN</td>\n",
       "    </tr>\n",
       "    <tr>\n",
       "      <th>2</th>\n",
       "      <td>712964574295</td>\n",
       "      <td>viewJob</td>\n",
       "      <td>6646654</td>\n",
       "      <td>52264848</td>\n",
       "      <td>2016-12-09 18:57:45</td>\n",
       "      <td>app</td>\n",
       "      <td>NaN</td>\n",
       "      <td>1.0</td>\n",
       "    </tr>\n",
       "    <tr>\n",
       "      <th>3</th>\n",
       "      <td>292057776827</td>\n",
       "      <td>viewJob</td>\n",
       "      <td>7858416</td>\n",
       "      <td>86427715</td>\n",
       "      <td>2016-04-13 12:53:35</td>\n",
       "      <td>mobileWeb</td>\n",
       "      <td>m.104.com.tw/job/4oflc</td>\n",
       "      <td>NaN</td>\n",
       "    </tr>\n",
       "    <tr>\n",
       "      <th>4</th>\n",
       "      <td>1039382087550</td>\n",
       "      <td>viewCust</td>\n",
       "      <td>NaN</td>\n",
       "      <td>59504506</td>\n",
       "      <td>2017-02-20 22:30:27</td>\n",
       "      <td>web</td>\n",
       "      <td>www.104.com.tw/jobbank/custjob/index.php</td>\n",
       "      <td>NaN</td>\n",
       "    </tr>\n",
       "  </tbody>\n",
       "</table>\n",
       "</div>"
      ],
      "text/plain": [
       "             uid    action    jobNo   invoice             dateTime     source  \\\n",
       "0   240518173237   viewJob  7582959  69568009  2017-01-04 12:03:32        app   \n",
       "1  1219770712231  viewCust      NaN  15458455  2016-11-23 18:57:48  mobileWeb   \n",
       "2   712964574295   viewJob  6646654  52264848  2016-12-09 18:57:45        app   \n",
       "3   292057776827   viewJob  7858416  86427715  2016-04-13 12:53:35  mobileWeb   \n",
       "4  1039382087550  viewCust      NaN  59504506  2017-02-20 22:30:27        web   \n",
       "\n",
       "                                        url  deviceType  \n",
       "0                                       NaN         1.0  \n",
       "1                 m.104.com.tw/cust/73nkc7s         NaN  \n",
       "2                                       NaN         1.0  \n",
       "3                    m.104.com.tw/job/4oflc         NaN  \n",
       "4  www.104.com.tw/jobbank/custjob/index.php         NaN  "
      ]
     },
     "execution_count": 2,
     "metadata": {},
     "output_type": "execute_result"
    }
   ],
   "source": [
    "train_df = pd.read_csv('user_log.csv', sep='|', dtype={'uid': str, 'jobNo': str})\n",
    "train_df.head()"
   ]
  },
  {
   "cell_type": "markdown",
   "metadata": {},
   "source": [
    "### 2. 濾掉viewCust的action，並計算每對（uid, jobNo, action）的數目"
   ]
  },
  {
   "cell_type": "code",
   "execution_count": 3,
   "metadata": {
    "collapsed": false
   },
   "outputs": [
    {
     "data": {
      "text/html": [
       "<div>\n",
       "<table border=\"1\" class=\"dataframe\">\n",
       "  <thead>\n",
       "    <tr style=\"text-align: right;\">\n",
       "      <th></th>\n",
       "      <th>uid</th>\n",
       "      <th>jobNo</th>\n",
       "      <th>action</th>\n",
       "      <th>count</th>\n",
       "    </tr>\n",
       "  </thead>\n",
       "  <tbody>\n",
       "    <tr>\n",
       "      <th>0</th>\n",
       "      <td>1005022347289</td>\n",
       "      <td>1003741</td>\n",
       "      <td>viewJob</td>\n",
       "      <td>1</td>\n",
       "    </tr>\n",
       "    <tr>\n",
       "      <th>1</th>\n",
       "      <td>1005022347289</td>\n",
       "      <td>1021902</td>\n",
       "      <td>applyJob</td>\n",
       "      <td>1</td>\n",
       "    </tr>\n",
       "    <tr>\n",
       "      <th>2</th>\n",
       "      <td>1005022347289</td>\n",
       "      <td>1021902</td>\n",
       "      <td>viewJob</td>\n",
       "      <td>1</td>\n",
       "    </tr>\n",
       "    <tr>\n",
       "      <th>3</th>\n",
       "      <td>1005022347289</td>\n",
       "      <td>1195525</td>\n",
       "      <td>applyJob</td>\n",
       "      <td>1</td>\n",
       "    </tr>\n",
       "    <tr>\n",
       "      <th>4</th>\n",
       "      <td>1005022347289</td>\n",
       "      <td>1195525</td>\n",
       "      <td>viewJob</td>\n",
       "      <td>2</td>\n",
       "    </tr>\n",
       "  </tbody>\n",
       "</table>\n",
       "</div>"
      ],
      "text/plain": [
       "             uid    jobNo    action  count\n",
       "0  1005022347289  1003741   viewJob      1\n",
       "1  1005022347289  1021902  applyJob      1\n",
       "2  1005022347289  1021902   viewJob      1\n",
       "3  1005022347289  1195525  applyJob      1\n",
       "4  1005022347289  1195525   viewJob      2"
      ]
     },
     "execution_count": 3,
     "metadata": {},
     "output_type": "execute_result"
    }
   ],
   "source": [
    "grouped_df = train_df[train_df.action != 'viewCust'].groupby(['uid', 'jobNo', 'action']).size().reset_index(name='count')\n",
    "grouped_df.head()"
   ]
  },
  {
   "cell_type": "markdown",
   "metadata": {},
   "source": [
    "### 3. 將action中的viewJob, saveJob, applyJob轉成獨立的column"
   ]
  },
  {
   "cell_type": "code",
   "execution_count": 4,
   "metadata": {
    "collapsed": false
   },
   "outputs": [
    {
     "data": {
      "text/html": [
       "<div>\n",
       "<table border=\"1\" class=\"dataframe\">\n",
       "  <thead>\n",
       "    <tr style=\"text-align: right;\">\n",
       "      <th></th>\n",
       "      <th>action</th>\n",
       "      <th>viewJob</th>\n",
       "      <th>saveJob</th>\n",
       "      <th>applyJob</th>\n",
       "    </tr>\n",
       "    <tr>\n",
       "      <th>uid</th>\n",
       "      <th>jobNo</th>\n",
       "      <th></th>\n",
       "      <th></th>\n",
       "      <th></th>\n",
       "    </tr>\n",
       "  </thead>\n",
       "  <tbody>\n",
       "    <tr>\n",
       "      <th rowspan=\"5\" valign=\"top\">1005022347289</th>\n",
       "      <th>1003741</th>\n",
       "      <td>1.0</td>\n",
       "      <td>0.0</td>\n",
       "      <td>0.0</td>\n",
       "    </tr>\n",
       "    <tr>\n",
       "      <th>1021902</th>\n",
       "      <td>1.0</td>\n",
       "      <td>0.0</td>\n",
       "      <td>1.0</td>\n",
       "    </tr>\n",
       "    <tr>\n",
       "      <th>1195525</th>\n",
       "      <td>2.0</td>\n",
       "      <td>0.0</td>\n",
       "      <td>1.0</td>\n",
       "    </tr>\n",
       "    <tr>\n",
       "      <th>1599564</th>\n",
       "      <td>1.0</td>\n",
       "      <td>0.0</td>\n",
       "      <td>2.0</td>\n",
       "    </tr>\n",
       "    <tr>\n",
       "      <th>3182736</th>\n",
       "      <td>1.0</td>\n",
       "      <td>0.0</td>\n",
       "      <td>1.0</td>\n",
       "    </tr>\n",
       "  </tbody>\n",
       "</table>\n",
       "</div>"
      ],
      "text/plain": [
       "action                 viewJob  saveJob  applyJob\n",
       "uid           jobNo                              \n",
       "1005022347289 1003741      1.0      0.0       0.0\n",
       "              1021902      1.0      0.0       1.0\n",
       "              1195525      2.0      0.0       1.0\n",
       "              1599564      1.0      0.0       2.0\n",
       "              3182736      1.0      0.0       1.0"
      ]
     },
     "execution_count": 4,
     "metadata": {},
     "output_type": "execute_result"
    }
   ],
   "source": [
    "pivot_df = grouped_df.pivot_table(index=['uid', 'jobNo'], columns='action', values='count').fillna(0)\n",
    "pivot_df = pivot_df.reindex_axis(['viewJob', 'saveJob', 'applyJob'], axis=1)\n",
    "pivot_df.head()"
   ]
  },
  {
   "cell_type": "markdown",
   "metadata": {},
   "source": [
    "### 4. 將dataframe轉換成classification需要的X和y"
   ]
  },
  {
   "cell_type": "code",
   "execution_count": 5,
   "metadata": {
    "collapsed": false
   },
   "outputs": [
    {
     "name": "stdout",
     "output_type": "stream",
     "text": [
      "X: [[ 1.  0.]\n",
      " [ 1.  0.]\n",
      " [ 2.  0.]\n",
      " ..., \n",
      " [ 1.  0.]\n",
      " [ 1.  0.]\n",
      " [ 1.  0.]]\n",
      "y: [ 0.  1.  1. ...,  0.  0.  0.]\n"
     ]
    }
   ],
   "source": [
    "X = pivot_df.values[:, :2]\n",
    "y = pivot_df.values[:, 2]\n",
    "y[y >= 1] = 1\n",
    "print('X:', X)\n",
    "print('y:', y)"
   ]
  },
  {
   "cell_type": "markdown",
   "metadata": {},
   "source": [
    "### 5. 使用sklearn的logistic regression"
   ]
  },
  {
   "cell_type": "code",
   "execution_count": 6,
   "metadata": {
    "collapsed": false
   },
   "outputs": [
    {
     "data": {
      "text/plain": [
       "LogisticRegression(C=1.0, class_weight=None, dual=False, fit_intercept=True,\n",
       "          intercept_scaling=1, max_iter=100, multi_class='ovr', n_jobs=1,\n",
       "          penalty='l2', random_state=None, solver='liblinear', tol=0.0001,\n",
       "          verbose=0, warm_start=False)"
      ]
     },
     "execution_count": 6,
     "metadata": {},
     "output_type": "execute_result"
    }
   ],
   "source": [
    "from sklearn.linear_model import LogisticRegression\n",
    "model = LogisticRegression()\n",
    "model.fit(X, y)"
   ]
  },
  {
   "cell_type": "markdown",
   "metadata": {},
   "source": [
    "### 6. 使用比賽當天拿到的testset，重複剛剛training set的動作，得到要預測的x_test"
   ]
  },
  {
   "cell_type": "code",
   "execution_count": 7,
   "metadata": {
    "collapsed": false
   },
   "outputs": [],
   "source": [
    "test_df = pd.read_csv('user_log_testset.csv', sep='|', dtype={'uid': str, 'jobNo': str})\n",
    "grouped_test_df = test_df[test_df.action != 'viewCust'].groupby(['uid', 'jobNo', 'action']).size().reset_index(name='count')\n",
    "pivot_test_df = grouped_test_df.pivot_table(index=['uid', 'jobNo'], columns='action', values='count').fillna(0)\n",
    "pivot_test_df = pivot_test_df.reindex_axis(['viewJob', 'saveJob'], axis=1)\n",
    "x_test = pivot_test_df.values"
   ]
  },
  {
   "cell_type": "markdown",
   "metadata": {},
   "source": [
    "### 7. 使用model預測結果"
   ]
  },
  {
   "cell_type": "code",
   "execution_count": 8,
   "metadata": {
    "collapsed": false
   },
   "outputs": [],
   "source": [
    "preds = model.predict(x_test)"
   ]
  },
  {
   "cell_type": "markdown",
   "metadata": {},
   "source": [
    "### 8. 將預測結果與testset的dataframe合併得到結果"
   ]
  },
  {
   "cell_type": "code",
   "execution_count": 9,
   "metadata": {
    "collapsed": false
   },
   "outputs": [],
   "source": [
    "pivot_test_df['applyJob'] = preds"
   ]
  },
  {
   "cell_type": "code",
   "execution_count": 10,
   "metadata": {
    "collapsed": false
   },
   "outputs": [],
   "source": [
    "preds_df = pivot_test_df.drop(['viewJob', 'saveJob'], axis=1)\n",
    "preds_df['applyJob'] = preds.astype(int)"
   ]
  },
  {
   "cell_type": "code",
   "execution_count": 11,
   "metadata": {
    "collapsed": false
   },
   "outputs": [
    {
     "data": {
      "text/html": [
       "<div>\n",
       "<table border=\"1\" class=\"dataframe\">\n",
       "  <thead>\n",
       "    <tr style=\"text-align: right;\">\n",
       "      <th></th>\n",
       "      <th>action</th>\n",
       "      <th>applyJob</th>\n",
       "    </tr>\n",
       "    <tr>\n",
       "      <th>uid</th>\n",
       "      <th>jobNo</th>\n",
       "      <th></th>\n",
       "    </tr>\n",
       "  </thead>\n",
       "  <tbody>\n",
       "    <tr>\n",
       "      <th rowspan=\"5\" valign=\"top\">1005022349260</th>\n",
       "      <th>5700211</th>\n",
       "      <td>0</td>\n",
       "    </tr>\n",
       "    <tr>\n",
       "      <th>6248819</th>\n",
       "      <td>0</td>\n",
       "    </tr>\n",
       "    <tr>\n",
       "      <th>6360974</th>\n",
       "      <td>0</td>\n",
       "    </tr>\n",
       "    <tr>\n",
       "      <th>6577740</th>\n",
       "      <td>0</td>\n",
       "    </tr>\n",
       "    <tr>\n",
       "      <th>6714349</th>\n",
       "      <td>0</td>\n",
       "    </tr>\n",
       "  </tbody>\n",
       "</table>\n",
       "</div>"
      ],
      "text/plain": [
       "action                 applyJob\n",
       "uid           jobNo            \n",
       "1005022349260 5700211         0\n",
       "              6248819         0\n",
       "              6360974         0\n",
       "              6577740         0\n",
       "              6714349         0"
      ]
     },
     "execution_count": 11,
     "metadata": {},
     "output_type": "execute_result"
    }
   ],
   "source": [
    "preds_df.head()"
   ]
  },
  {
   "cell_type": "code",
   "execution_count": 12,
   "metadata": {
    "collapsed": false
   },
   "outputs": [],
   "source": [
    "preds_df.to_csv('preds.csv', sep='|')"
   ]
  }
 ],
 "metadata": {
  "kernelspec": {
   "display_name": "Python 3",
   "language": "python",
   "name": "python3"
  },
  "language_info": {
   "codemirror_mode": {
    "name": "ipython",
    "version": 3
   },
   "file_extension": ".py",
   "mimetype": "text/x-python",
   "name": "python",
   "nbconvert_exporter": "python",
   "pygments_lexer": "ipython3",
   "version": "3.5.2"
  }
 },
 "nbformat": 4,
 "nbformat_minor": 2
}
